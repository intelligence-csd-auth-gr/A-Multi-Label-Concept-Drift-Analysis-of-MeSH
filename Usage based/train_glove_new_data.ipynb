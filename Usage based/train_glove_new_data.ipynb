{
  "nbformat": 4,
  "nbformat_minor": 0,
  "metadata": {
    "colab": {
      "name": "train_glove_new_data.ipynb",
      "provenance": [],
      "collapsed_sections": []
    },
    "kernelspec": {
      "display_name": "Python 3",
      "name": "python3"
    },
    "language_info": {
      "name": "python"
    }
  },
  "cells": [
    {
      "cell_type": "code",
      "metadata": {
        "colab": {
          "base_uri": "https://localhost:8080/"
        },
        "id": "2IX5tGDxh3cg",
        "outputId": "1998919c-250f-490e-f557-d9057ce85a5c"
      },
      "source": [
        "from google.colab import drive\n",
        "drive.mount('/content/gdrive')"
      ],
      "execution_count": 2,
      "outputs": [
        {
          "output_type": "stream",
          "name": "stdout",
          "text": [
            "Mounted at /content/gdrive\n"
          ]
        }
      ]
    },
    {
      "cell_type": "code",
      "metadata": {
        "colab": {
          "base_uri": "https://localhost:8080/"
        },
        "id": "uLFR_6VyioBD",
        "outputId": "91698901-6157-47e1-8883-3dd0ebbb8445"
      },
      "source": [
        "cd /content/gdrive/MyDrive/AMULET/"
      ],
      "execution_count": 3,
      "outputs": [
        {
          "output_type": "stream",
          "name": "stdout",
          "text": [
            "/content/gdrive/MyDrive/AMULET\n"
          ]
        }
      ]
    },
    {
      "cell_type": "code",
      "metadata": {
        "id": "fTJllSELrOWi"
      },
      "source": [
        "!chmod -R 777 /content/gdrive/MyDrive/AMULET/glove4LVR/GloVe/"
      ],
      "execution_count": 4,
      "outputs": []
    },
    {
      "cell_type": "code",
      "metadata": {
        "id": "AgLBO25EjMtS"
      },
      "source": [
        "import numpy as np\n",
        "\n",
        "def generate(vocab_file, vectors_file, normalization = False):\n",
        "\n",
        "    with open(vocab_file, 'r') as f:\n",
        "        words = [x.rstrip().split(' ')[0] for x in f.readlines()]\n",
        "    with open(vectors_file, 'r') as f:\n",
        "        vectors = {}\n",
        "        for line in f:\n",
        "            vals = line.rstrip().split(' ')\n",
        "            vectors[vals[0]] = [float(x) for x in vals[1:]]\n",
        "\n",
        "    vocab_size = len(words)\n",
        "    vocab_glove = {w: idx for idx, w in enumerate(words)}\n",
        "    ivocab_glove = {idx: w for idx, w in enumerate(words)}\n",
        "\n",
        "    vector_dim = len(vectors[ivocab_glove[0]])\n",
        "    W = np.zeros((vocab_size, vector_dim))\n",
        "    for word, v in vectors.items():\n",
        "        if word == '<unk>':\n",
        "            continue\n",
        "        W[vocab_glove[word], :] = v\n",
        "\n",
        "    # normalize each word vector to unit variance\n",
        "    W_norm = np.zeros(W.shape)\n",
        "    d = (np.sum(W ** 2, 1) ** (0.5))\n",
        "    W_norm = (W.T / d).T\n",
        "\n",
        "    if normalization:\n",
        "      return (W_norm, vocab_glove, ivocab_glove)\n",
        "    else:\n",
        "      return (W, vocab_glove, ivocab_glove)"
      ],
      "execution_count": 5,
      "outputs": []
    },
    {
      "cell_type": "code",
      "metadata": {
        "id": "qVGZ8D3jjoUn"
      },
      "source": [
        "import subprocess\n",
        "import time\n",
        "\n",
        "def build_glove_representations(glove_path, vec_dim, num_iterations, window, dict_texts, year, normalization = False):\n",
        "    \"\"\"Build GloVe word representations\"\"\"\n",
        "      \n",
        "    with open(glove_path+str(year)+\"_\"+str(vec_dim)+str(num_iterations)+str(window), \"w\") as f:\n",
        "      f.write('\\n'.join(list(dict_texts.values())) + ' ')\n",
        "    print(len(list(dict_texts.values())))\n",
        "\n",
        "\n",
        "    print('GloVe word vectors production...')\n",
        "    print(glove_path+\"demo.sh\", glove_path+str(year)+\"_\"+str(vec_dim)+str(num_iterations)+str(window), str(year), str(vec_dim), str(num_iterations), glove_path, str(window))\n",
        "    subprocess.call([glove_path+\"demo.sh\", glove_path+str(year)+\"_\"+str(vec_dim)+str(num_iterations)+str(window), str(year), str(vec_dim), str(num_iterations), glove_path, str(window)])\n",
        "      \n",
        "    time.sleep(10)  \n",
        "    print('Loading GloVe word vectors...')\n",
        "    glove_representations, vocab_glove, ivocab_glove = generate(glove_path+\"vocab_\"+str(year)+str(vec_dim)+str(num_iterations)+str(window), glove_path+\"vectors_\"+str(year)+str(vec_dim)+str(num_iterations)+str(window)+\".txt\", normalization = normalization)\n",
        "    print('W_glove_preview:\\n', glove_representations, glove_representations.shape, len(vocab_glove), len(ivocab_glove))\n",
        "\n",
        "\n",
        "    return glove_representations, vocab_glove, ivocab_glove"
      ],
      "execution_count": 6,
      "outputs": []
    },
    {
      "cell_type": "code",
      "metadata": {
        "colab": {
          "base_uri": "https://localhost:8080/"
        },
        "id": "SixmxI2MlpVT",
        "outputId": "c4b7a3e7-ff29-46c6-dca6-0b8ec271e2ba"
      },
      "source": [
        "import json\n",
        "\n",
        "year = 2019\n",
        "_VEC_DIM = 50\n",
        "_WINDOW = 10\n",
        "_NUM_ITERATIONS = 50\n",
        "\n",
        "glove_path = '/content/gdrive/MyDrive/AMULET/glove4LVR/GloVe/'\n",
        "\n",
        "dataset_dict_201x = '/content/gdrive/MyDrive/AMULET/glove4LVR/GloVe/glove datasets/texts_dict_'+str(year)\n",
        "\n",
        "with open(dataset_dict_201x, 'r') as f:\n",
        "    texts_dict_201x = json.load(f)\n",
        "\n",
        "glove_vectors, vocab, ivocab = build_glove_representations(glove_path, _VEC_DIM, _NUM_ITERATIONS, _WINDOW, texts_dict_201x, year, normalization = True)\n",
        "\n",
        "print(glove_vectors)\n",
        "print(vocab)\n",
        "print(ivocab)"
      ],
      "execution_count": 7,
      "outputs": [
        {
          "output_type": "stream",
          "name": "stdout",
          "text": [
            "197180\n",
            "GloVe word vectors production...\n",
            "/content/gdrive/MyDrive/AMULET/glove4LVR/GloVe/demo.sh /content/gdrive/MyDrive/AMULET/glove4LVR/GloVe/2019_505010 2019 50 50 /content/gdrive/MyDrive/AMULET/glove4LVR/GloVe/ 10\n",
            "Loading GloVe word vectors...\n"
          ]
        },
        {
          "output_type": "stream",
          "name": "stderr",
          "text": [
            "IOPub data rate exceeded.\n",
            "The notebook server will temporarily stop sending output\n",
            "to the client in order to avoid crashing it.\n",
            "To change this limit, set the config variable\n",
            "`--NotebookApp.iopub_data_rate_limit`.\n",
            "\n",
            "Current values:\n",
            "NotebookApp.iopub_data_rate_limit=1000000.0 (bytes/sec)\n",
            "NotebookApp.rate_limit_window=3.0 (secs)\n",
            "\n"
          ]
        }
      ]
    }
  ]
}